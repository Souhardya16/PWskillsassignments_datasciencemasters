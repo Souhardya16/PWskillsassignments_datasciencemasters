{
 "cells": [
  {
   "cell_type": "code",
   "execution_count": 1,
   "id": "b1c865e7-fd4b-4cf9-bc70-989ae8df873a",
   "metadata": {},
   "outputs": [],
   "source": [
    "#Q1. i)"
   ]
  },
  {
   "cell_type": "code",
   "execution_count": 2,
   "id": "4c6157da-4e09-457a-9489-7126ecff7b4a",
   "metadata": {},
   "outputs": [
    {
     "data": {
      "text/plain": [
       "str"
      ]
     },
     "execution_count": 2,
     "metadata": {},
     "output_type": "execute_result"
    }
   ],
   "source": [
    "a=\"Souhardya\"\n",
    "type(a)"
   ]
  },
  {
   "cell_type": "code",
   "execution_count": 3,
   "id": "0736aa1c-3b87-4e1a-9136-2a4976618c8a",
   "metadata": {},
   "outputs": [],
   "source": [
    "# ii)"
   ]
  },
  {
   "cell_type": "code",
   "execution_count": 4,
   "id": "f2be1ded-0a24-4eca-96ce-39b52bd2953c",
   "metadata": {},
   "outputs": [
    {
     "data": {
      "text/plain": [
       "list"
      ]
     },
     "execution_count": 4,
     "metadata": {},
     "output_type": "execute_result"
    }
   ],
   "source": [
    "mutable_list=[1,2,'h','o',23.11,False]\n",
    "type(mutable_list)"
   ]
  },
  {
   "cell_type": "code",
   "execution_count": 5,
   "id": "67d2fed0-c654-4f15-bf4f-802410a94953",
   "metadata": {},
   "outputs": [],
   "source": [
    "#iii)"
   ]
  },
  {
   "cell_type": "code",
   "execution_count": 6,
   "id": "e8b35b64-cf6c-465b-bc4e-d82e82c9a8e2",
   "metadata": {},
   "outputs": [
    {
     "data": {
      "text/plain": [
       "tuple"
      ]
     },
     "execution_count": 6,
     "metadata": {},
     "output_type": "execute_result"
    }
   ],
   "source": [
    "immutable_tuple=('hello','Hola',12,6.0,[1,2,3,4])\n",
    "type(immutable_tuple)"
   ]
  },
  {
   "cell_type": "code",
   "execution_count": 7,
   "id": "06ca062b-ae2c-4235-8033-7ff794cb9de7",
   "metadata": {},
   "outputs": [],
   "source": [
    "#Q2. i)"
   ]
  },
  {
   "cell_type": "code",
   "execution_count": 8,
   "id": "ae140942-8979-4904-becb-dc2ecdd4226f",
   "metadata": {},
   "outputs": [
    {
     "data": {
      "text/plain": [
       "str"
      ]
     },
     "execution_count": 8,
     "metadata": {},
     "output_type": "execute_result"
    }
   ],
   "source": [
    "var1=' '\n",
    "type(var1)"
   ]
  },
  {
   "cell_type": "code",
   "execution_count": 9,
   "id": "c85330de-83d9-4a6b-b25d-5f32388cba72",
   "metadata": {},
   "outputs": [],
   "source": [
    "#ii)"
   ]
  },
  {
   "cell_type": "code",
   "execution_count": 10,
   "id": "4887cb3e-ce6e-4949-ade6-6c937c013857",
   "metadata": {},
   "outputs": [
    {
     "data": {
      "text/plain": [
       "str"
      ]
     },
     "execution_count": 10,
     "metadata": {},
     "output_type": "execute_result"
    }
   ],
   "source": [
    "var2='[DS,ML,Python]'\n",
    "type(var2)"
   ]
  },
  {
   "cell_type": "code",
   "execution_count": 11,
   "id": "2052ebdd-40ed-4a73-b575-df2a5d466754",
   "metadata": {},
   "outputs": [],
   "source": [
    "#iii)"
   ]
  },
  {
   "cell_type": "code",
   "execution_count": 12,
   "id": "e0e28ef6-1a35-4f07-9e76-2752ede8435f",
   "metadata": {},
   "outputs": [
    {
     "data": {
      "text/plain": [
       "list"
      ]
     },
     "execution_count": 12,
     "metadata": {},
     "output_type": "execute_result"
    }
   ],
   "source": [
    "var3=['DS','ML','Python']\n",
    "type(var3)"
   ]
  },
  {
   "cell_type": "code",
   "execution_count": 13,
   "id": "d9cbfc81-d7ba-4e5f-aa3c-4f0ebf6d3bb3",
   "metadata": {},
   "outputs": [],
   "source": [
    "#iv)"
   ]
  },
  {
   "cell_type": "code",
   "execution_count": 14,
   "id": "cfe8b3a0-1bad-4a97-bfc6-f52253e3e053",
   "metadata": {},
   "outputs": [
    {
     "data": {
      "text/plain": [
       "int"
      ]
     },
     "execution_count": 14,
     "metadata": {},
     "output_type": "execute_result"
    }
   ],
   "source": [
    "var4=1\n",
    "type(var4)"
   ]
  },
  {
   "cell_type": "code",
   "execution_count": 15,
   "id": "54b75859-e59a-4735-a9d7-d0f85b136dcc",
   "metadata": {},
   "outputs": [],
   "source": [
    "#Q3.  i)"
   ]
  },
  {
   "cell_type": "code",
   "execution_count": 16,
   "id": "9e8e5fb3-1e7e-4089-85e6-aa2708e54cf1",
   "metadata": {},
   "outputs": [
    {
     "data": {
      "text/plain": [
       "3.75"
      ]
     },
     "execution_count": 16,
     "metadata": {},
     "output_type": "execute_result"
    }
   ],
   "source": [
    "15/4 #division"
   ]
  },
  {
   "cell_type": "code",
   "execution_count": 17,
   "id": "3dc2f243-1f82-4015-a589-b9920cf87127",
   "metadata": {},
   "outputs": [],
   "source": [
    "# ii)"
   ]
  },
  {
   "cell_type": "code",
   "execution_count": 18,
   "id": "cefdf2f5-3806-4958-a31d-1d157ed10b3d",
   "metadata": {},
   "outputs": [
    {
     "data": {
      "text/plain": [
       "3"
      ]
     },
     "execution_count": 18,
     "metadata": {},
     "output_type": "execute_result"
    }
   ],
   "source": [
    "15%4 #modulus operation"
   ]
  },
  {
   "cell_type": "code",
   "execution_count": 19,
   "id": "60ea5232-d1e3-458a-a285-853f9cf54374",
   "metadata": {},
   "outputs": [],
   "source": [
    "# iii)"
   ]
  },
  {
   "cell_type": "code",
   "execution_count": 20,
   "id": "10057273-f800-40bc-9437-b9eabe8f5b9f",
   "metadata": {},
   "outputs": [
    {
     "data": {
      "text/plain": [
       "3"
      ]
     },
     "execution_count": 20,
     "metadata": {},
     "output_type": "execute_result"
    }
   ],
   "source": [
    "15//4 #division floor"
   ]
  },
  {
   "cell_type": "code",
   "execution_count": 21,
   "id": "68287dab-c4c9-43a6-915e-56d039da1417",
   "metadata": {},
   "outputs": [],
   "source": [
    "# iv)"
   ]
  },
  {
   "cell_type": "code",
   "execution_count": 22,
   "id": "1cb1ab7e-fa99-4945-a8d3-948772773ca4",
   "metadata": {},
   "outputs": [
    {
     "data": {
      "text/plain": [
       "50625"
      ]
     },
     "execution_count": 22,
     "metadata": {},
     "output_type": "execute_result"
    }
   ],
   "source": [
    "15**4  #exponent"
   ]
  },
  {
   "cell_type": "code",
   "execution_count": 23,
   "id": "217ff954-d616-4d19-acb7-407f8d9d7359",
   "metadata": {},
   "outputs": [],
   "source": [
    "#Q4."
   ]
  },
  {
   "cell_type": "code",
   "execution_count": 24,
   "id": "a09b1d5e-88ba-4206-bc94-38c864ace5bd",
   "metadata": {},
   "outputs": [
    {
     "name": "stdout",
     "output_type": "stream",
     "text": [
      "pwskills\n",
      "<class 'str'>\n",
      "assignment\n",
      "<class 'str'>\n",
      "1\n",
      "<class 'int'>\n",
      "of\n",
      "<class 'str'>\n",
      "2.0\n",
      "<class 'float'>\n",
      "batch\n",
      "<class 'str'>\n",
      "is\n",
      "<class 'str'>\n",
      "True\n",
      "<class 'bool'>\n",
      "ly\n",
      "<class 'str'>\n",
      "engaging\n",
      "<class 'str'>\n"
     ]
    }
   ],
   "source": [
    "list1=[\"pwskills\",'assignment',1,'of',2.0,'batch','is',True,'ly','engaging']\n",
    "for i in list1:\n",
    "    print(i)\n",
    "    print(type(i))"
   ]
  },
  {
   "cell_type": "code",
   "execution_count": 25,
   "id": "1d27c35e-e551-4f32-9d41-a2d31d192c35",
   "metadata": {},
   "outputs": [],
   "source": [
    "#Q5."
   ]
  },
  {
   "cell_type": "code",
   "execution_count": 29,
   "id": "1163ff28-80f5-48a3-b599-b7d31b0e790b",
   "metadata": {},
   "outputs": [
    {
     "name": "stdin",
     "output_type": "stream",
     "text": [
      " 32\n",
      " 2\n"
     ]
    },
    {
     "name": "stdout",
     "output_type": "stream",
     "text": [
      "A is divisible by B\n",
      "B divides A\n",
      "5\n",
      "times\n"
     ]
    }
   ],
   "source": [
    "i=0\n",
    "A=input()\n",
    "A=int(A)\n",
    "B=input()\n",
    "B=int(B)\n",
    "if A%B==0:\n",
    "    print(\"A is divisible by B\")\n",
    "    while A%B==0:\n",
    "        i=i+1\n",
    "        A=A/B\n",
    "else :\n",
    "    print('A is not divisible by B')\n",
    "print('B divides A')\n",
    "print(i)\n",
    "print('times')\n",
    "  "
   ]
  },
  {
   "cell_type": "code",
   "execution_count": null,
   "id": "a2c346e0-9535-42a5-a1da-c404ebe650dc",
   "metadata": {},
   "outputs": [],
   "source": [
    "#Q6."
   ]
  },
  {
   "cell_type": "code",
   "execution_count": 30,
   "id": "14896389-724d-40cc-a009-d5a0fe6b4c13",
   "metadata": {},
   "outputs": [
    {
     "name": "stdout",
     "output_type": "stream",
     "text": [
      "divisible by 3\n",
      "not divisible by 3\n",
      "not divisible by 3\n",
      "divisible by 3\n",
      "not divisible by 3\n",
      "not divisible by 3\n",
      "divisible by 3\n",
      "not divisible by 3\n",
      "not divisible by 3\n",
      "divisible by 3\n",
      "not divisible by 3\n",
      "not divisible by 3\n",
      "divisible by 3\n",
      "not divisible by 3\n",
      "not divisible by 3\n",
      "divisible by 3\n",
      "not divisible by 3\n",
      "not divisible by 3\n",
      "divisible by 3\n",
      "not divisible by 3\n",
      "not divisible by 3\n",
      "divisible by 3\n",
      "not divisible by 3\n",
      "not divisible by 3\n",
      "divisible by 3\n"
     ]
    }
   ],
   "source": [
    "list2=[75,76,77,78,79,80,81,82,83,84,85,86,87,88,89,90,91,92,93,94,95,96,97,98,99]\n",
    "for j in list2:\n",
    "    if j%3==0:\n",
    "        print('divisible by 3')\n",
    "    else:\n",
    "        print('not divisible by 3')"
   ]
  },
  {
   "cell_type": "code",
   "execution_count": null,
   "id": "ff2811e9-340c-41dc-a5f1-22ebef2bfca4",
   "metadata": {},
   "outputs": [],
   "source": [
    "#Q7."
   ]
  },
  {
   "cell_type": "code",
   "execution_count": 35,
   "id": "dcad1ca8-4c26-4b16-83d0-f2e0094d03ba",
   "metadata": {},
   "outputs": [],
   "source": [
    "list3=[1,2,3,4,5,6]\n",
    "s='SOUHARDYA'\n"
   ]
  },
  {
   "cell_type": "code",
   "execution_count": 37,
   "id": "bf1c6953-f381-45d3-aa8c-7ee65efd819e",
   "metadata": {},
   "outputs": [],
   "source": [
    "list3[0]=24"
   ]
  },
  {
   "cell_type": "code",
   "execution_count": 38,
   "id": "85ea8f8c-5a6a-4941-9a31-7dfb13ac307a",
   "metadata": {},
   "outputs": [
    {
     "data": {
      "text/plain": [
       "[24, 2, 3, 4, 5, 6]"
      ]
     },
     "execution_count": 38,
     "metadata": {},
     "output_type": "execute_result"
    }
   ],
   "source": [
    "list3"
   ]
  },
  {
   "cell_type": "code",
   "execution_count": null,
   "id": "c29cc89e-3716-4060-996c-7799462d0e4c",
   "metadata": {},
   "outputs": [],
   "source": [
    "#hence list variable is a mutable object"
   ]
  },
  {
   "cell_type": "code",
   "execution_count": 40,
   "id": "35b091d1-0a63-4900-b1e7-67d9065dede9",
   "metadata": {},
   "outputs": [
    {
     "data": {
      "text/plain": [
       "'D'"
      ]
     },
     "execution_count": 40,
     "metadata": {},
     "output_type": "execute_result"
    }
   ],
   "source": [
    "s[-3]"
   ]
  },
  {
   "cell_type": "code",
   "execution_count": 41,
   "id": "16af7328-e486-4523-ba2a-8862bd9d327b",
   "metadata": {},
   "outputs": [
    {
     "ename": "TypeError",
     "evalue": "'str' object does not support item assignment",
     "output_type": "error",
     "traceback": [
      "\u001b[0;31m---------------------------------------------------------------------------\u001b[0m",
      "\u001b[0;31mTypeError\u001b[0m                                 Traceback (most recent call last)",
      "Cell \u001b[0;32mIn[41], line 1\u001b[0m\n\u001b[0;32m----> 1\u001b[0m \u001b[43ms\u001b[49m\u001b[43m[\u001b[49m\u001b[38;5;241;43m-\u001b[39;49m\u001b[38;5;241;43m3\u001b[39;49m\u001b[43m]\u001b[49m\u001b[38;5;241m=\u001b[39m\u001b[38;5;124m'\u001b[39m\u001b[38;5;124mA\u001b[39m\u001b[38;5;124m'\u001b[39m\n",
      "\u001b[0;31mTypeError\u001b[0m: 'str' object does not support item assignment"
     ]
    }
   ],
   "source": [
    "s[-3]='A'"
   ]
  },
  {
   "cell_type": "code",
   "execution_count": null,
   "id": "30b4362d-e168-46a9-8217-4f0f2bbc9030",
   "metadata": {},
   "outputs": [],
   "source": [
    "#hence string variable is immutable"
   ]
  },
  {
   "cell_type": "code",
   "execution_count": 42,
   "id": "26c12aef-754c-475e-9f08-6ac363c2bbd0",
   "metadata": {},
   "outputs": [
    {
     "ename": "TypeError",
     "evalue": "'tuple' object does not support item assignment",
     "output_type": "error",
     "traceback": [
      "\u001b[0;31m---------------------------------------------------------------------------\u001b[0m",
      "\u001b[0;31mTypeError\u001b[0m                                 Traceback (most recent call last)",
      "Cell \u001b[0;32mIn[42], line 1\u001b[0m\n\u001b[0;32m----> 1\u001b[0m \u001b[43mimmutable_tuple\u001b[49m\u001b[43m[\u001b[49m\u001b[38;5;241;43m2\u001b[39;49m\u001b[43m]\u001b[49m\u001b[38;5;241m=\u001b[39m\u001b[38;5;241m33\u001b[39m\n",
      "\u001b[0;31mTypeError\u001b[0m: 'tuple' object does not support item assignment"
     ]
    }
   ],
   "source": [
    "immutable_tuple[2]=33"
   ]
  },
  {
   "cell_type": "code",
   "execution_count": null,
   "id": "de030a93-a3c0-4a54-ad07-15f71c1cd860",
   "metadata": {},
   "outputs": [],
   "source": []
  }
 ],
 "metadata": {
  "kernelspec": {
   "display_name": "Python 3 (ipykernel)",
   "language": "python",
   "name": "python3"
  },
  "language_info": {
   "codemirror_mode": {
    "name": "ipython",
    "version": 3
   },
   "file_extension": ".py",
   "mimetype": "text/x-python",
   "name": "python",
   "nbconvert_exporter": "python",
   "pygments_lexer": "ipython3",
   "version": "3.10.8"
  }
 },
 "nbformat": 4,
 "nbformat_minor": 5
}
