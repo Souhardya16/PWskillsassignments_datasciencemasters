{
 "cells": [
  {
   "cell_type": "code",
   "execution_count": 105,
   "id": "29216fef-2969-4391-be59-e5a1d46c660c",
   "metadata": {},
   "outputs": [],
   "source": [
    "#Q1.To sort the given list of tuples basd on their integer value using a lambda function"
   ]
  },
  {
   "cell_type": "code",
   "execution_count": 106,
   "id": "4409e697-f27a-4f09-8e01-a1263bed1239",
   "metadata": {},
   "outputs": [],
   "source": [
    "tup=[('Sachin Tendulkar',34357),('Ricky Ponting',27483),('Jack Kallis',25534),('Virat Kohli',24936)]"
   ]
  },
  {
   "cell_type": "code",
   "execution_count": 78,
   "id": "9e860ddc-fb6c-4b72-81b2-c98395af1848",
   "metadata": {},
   "outputs": [],
   "source": [
    "def Sort_Tuple():\n",
    "  \n",
    "    lst = len(tup)\n",
    "    for i in range(0, lst):\n",
    " \n",
    "        for j in range(0, lst-i-1):\n",
    "            if (tup[j][1] > tup[j + 1][1]):\n",
    "                temp = tup[j]\n",
    "                tup[j] = tup[j + 1]\n",
    "                tup[j + 1] = temp\n",
    "    return tup "
   ]
  },
  {
   "cell_type": "code",
   "execution_count": 79,
   "id": "1955fd3f-689c-489e-adb3-4b8e6a162814",
   "metadata": {},
   "outputs": [],
   "source": [
    "y=lambda l:Sort_Tuple()"
   ]
  },
  {
   "cell_type": "code",
   "execution_count": 80,
   "id": "1318a53a-7ab5-4549-a654-964422df9cda",
   "metadata": {},
   "outputs": [
    {
     "data": {
      "text/plain": [
       "[('Virat Kohli', 24936),\n",
       " ('Jack Kallis', 25534),\n",
       " ('Ricky Ponting', 27483),\n",
       " ('Sachin Tendulkar', 34357)]"
      ]
     },
     "execution_count": 80,
     "metadata": {},
     "output_type": "execute_result"
    }
   ],
   "source": [
    "y(l)"
   ]
  },
  {
   "cell_type": "code",
   "execution_count": 68,
   "id": "e9a753f2-48b1-47a8-ba77-61733857cc05",
   "metadata": {},
   "outputs": [],
   "source": [
    "#Q2.A program to find the squares of all the numbers in the given list of integers using lambda and map functions is shown below:-"
   ]
  },
  {
   "cell_type": "code",
   "execution_count": 70,
   "id": "0b1bda03-4a5a-41fd-8a81-975552ba2701",
   "metadata": {},
   "outputs": [
    {
     "data": {
      "text/plain": [
       "[1, 4, 9, 16, 25, 36, 49, 64, 81, 100]"
      ]
     },
     "execution_count": 70,
     "metadata": {},
     "output_type": "execute_result"
    }
   ],
   "source": [
    "l1=[1,2,3,4,5,6,7,8,9,10]\n",
    "list(map(lambda x:x**2,l1))"
   ]
  },
  {
   "cell_type": "code",
   "execution_count": null,
   "id": "ad4d92a0-6362-4a15-b6ac-abbd72da3e92",
   "metadata": {},
   "outputs": [],
   "source": [
    "#Q3.A program to convert the given list of integers into a tuple of strings. Use map and lambda functions is shown below:-"
   ]
  },
  {
   "cell_type": "code",
   "execution_count": 71,
   "id": "baac4023-9acf-4aa1-a262-a121cb0e1539",
   "metadata": {},
   "outputs": [
    {
     "data": {
      "text/plain": [
       "['1', '2', '3', '4', '5', '6', '7', '8', '9', '10']"
      ]
     },
     "execution_count": 71,
     "metadata": {},
     "output_type": "execute_result"
    }
   ],
   "source": [
    "l2=[1,2,3,4,5,6,7,8,9,10]\n",
    "list(map(lambda x: str(x),l2))"
   ]
  },
  {
   "cell_type": "code",
   "execution_count": null,
   "id": "94483915-d957-47ee-904f-f97fdf429f7b",
   "metadata": {},
   "outputs": [],
   "source": [
    "#Q4.a python program using reduce function to compute the product of a list containing numbers from 1 to 25."
   ]
  },
  {
   "cell_type": "code",
   "execution_count": 74,
   "id": "08231841-4832-4734-868c-43617d89c733",
   "metadata": {},
   "outputs": [
    {
     "data": {
      "text/plain": [
       "15511210043330985984000000"
      ]
     },
     "execution_count": 74,
     "metadata": {},
     "output_type": "execute_result"
    }
   ],
   "source": [
    "import functools\n",
    "l3=[1,2,3,4,5,6,7,8,9,10,11,12,13,14,15,16,17,18,19,20,21,22,23,24,25]\n",
    "functools.reduce(lambda a,b:a*b,l3)"
   ]
  },
  {
   "cell_type": "code",
   "execution_count": null,
   "id": "8a62214f-0bfb-4cfd-a9bf-e6d2647a9ac3",
   "metadata": {},
   "outputs": [],
   "source": [
    "#Q5.A python program to filter the numbers in a given list that are divisible by 2 and 3 using the fil;ter function is hown below:-"
   ]
  },
  {
   "cell_type": "code",
   "execution_count": 98,
   "id": "f1c4a848-1885-498b-9e63-62ac8d4639e1",
   "metadata": {},
   "outputs": [
    {
     "data": {
      "text/plain": [
       "[6, 60, 90, 120]"
      ]
     },
     "execution_count": 98,
     "metadata": {},
     "output_type": "execute_result"
    }
   ],
   "source": [
    "l4=[2, 3, 6, 9, 27, 60, 90, 120, 55, 46]\n",
    "list(filter(lambda x:x%2==0 and x%3==0,l4))"
   ]
  },
  {
   "cell_type": "code",
   "execution_count": null,
   "id": "88197052-9e72-4514-b494-2542c904483d",
   "metadata": {},
   "outputs": [],
   "source": [
    "#Q6.A python program to find palindromes in the given list of strings using lambda and filter function is given below:-"
   ]
  },
  {
   "cell_type": "code",
   "execution_count": 103,
   "id": "94815cd1-16ca-4a37-9bfa-3f772b3f761a",
   "metadata": {},
   "outputs": [],
   "source": [
    "l5=['python', 'php', 'aba', 'radar', 'level']"
   ]
  },
  {
   "cell_type": "code",
   "execution_count": 104,
   "id": "db69272c-e137-4664-853f-1819e1787772",
   "metadata": {},
   "outputs": [
    {
     "data": {
      "text/plain": [
       "['php', 'aba', 'radar', 'level']"
      ]
     },
     "execution_count": 104,
     "metadata": {},
     "output_type": "execute_result"
    }
   ],
   "source": [
    "list(filter(lambda x:x==x[::-1],l5))    "
   ]
  },
  {
   "cell_type": "code",
   "execution_count": null,
   "id": "d955b6d9-e65a-4b46-9267-fedbf42e04cc",
   "metadata": {},
   "outputs": [],
   "source": []
  },
  {
   "cell_type": "code",
   "execution_count": null,
   "id": "a5bf39ff-8d08-48c0-9eb7-6dae1f0fb6e3",
   "metadata": {},
   "outputs": [],
   "source": []
  },
  {
   "cell_type": "code",
   "execution_count": null,
   "id": "d48e32e7-0ad8-401e-9708-fc0e4e6979ea",
   "metadata": {},
   "outputs": [],
   "source": []
  }
 ],
 "metadata": {
  "kernelspec": {
   "display_name": "Python 3 (ipykernel)",
   "language": "python",
   "name": "python3"
  },
  "language_info": {
   "codemirror_mode": {
    "name": "ipython",
    "version": 3
   },
   "file_extension": ".py",
   "mimetype": "text/x-python",
   "name": "python",
   "nbconvert_exporter": "python",
   "pygments_lexer": "ipython3",
   "version": "3.10.8"
  }
 },
 "nbformat": 4,
 "nbformat_minor": 5
}
