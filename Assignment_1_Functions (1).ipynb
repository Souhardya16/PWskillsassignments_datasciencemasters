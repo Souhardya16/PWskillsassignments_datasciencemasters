{
 "cells": [
  {
   "cell_type": "code",
   "execution_count": 1,
   "id": "5687f7fc-22ad-49ab-a866-e3209b5823ae",
   "metadata": {},
   "outputs": [],
   "source": [
    "#Q1. to create a function in python we use the 'def' keyword."
   ]
  },
  {
   "cell_type": "code",
   "execution_count": 2,
   "id": "ddd8c661-d9cc-4a53-999b-72d9553a43d1",
   "metadata": {},
   "outputs": [],
   "source": [
    "# The following function returns a list of odd numbers in the range of 1 to 25\n",
    "def odd_nos():\n",
    "    l=[]\n",
    "    for i in range(25):\n",
    "        i=i+1\n",
    "        if i%2!=0:\n",
    "            l.append(i)\n",
    "            \n",
    "    return l"
   ]
  },
  {
   "cell_type": "code",
   "execution_count": 3,
   "id": "40684ff8-868c-43ea-a186-366cee09f073",
   "metadata": {},
   "outputs": [
    {
     "data": {
      "text/plain": [
       "[1, 3, 5, 7, 9, 11, 13, 15, 17, 19, 21, 23, 25]"
      ]
     },
     "execution_count": 3,
     "metadata": {},
     "output_type": "execute_result"
    }
   ],
   "source": [
    "odd_nos()"
   ]
  },
  {
   "cell_type": "code",
   "execution_count": 4,
   "id": "a5c7b8c1-0710-455e-8340-f34d777ba952",
   "metadata": {},
   "outputs": [
    {
     "data": {
      "text/plain": [
       "\"\\nQ2. The purpose of using *args is to enable the user to insert as many linear arguments they want to in a function, here 'args' is not a keyword, i.e. some other word may also be used. \\nOn the other hand **kwargs is a special keyword used if the arguments entered are dictionaries. This can shown as follows\\n\""
      ]
     },
     "execution_count": 4,
     "metadata": {},
     "output_type": "execute_result"
    }
   ],
   "source": [
    "'''\n",
    "Q2. The purpose of using *args is to enable the user to insert as many linear arguments they want to in a function, here 'args' is not a keyword, i.e. some other word may also be used. \n",
    "On the other hand **kwargs is a special keyword used if the arguments entered are dictionaries. This can shown as follows\n",
    "'''"
   ]
  },
  {
   "cell_type": "code",
   "execution_count": 5,
   "id": "b142d828-ccde-45ea-a0f3-3e9d6ea0a3e2",
   "metadata": {},
   "outputs": [],
   "source": [
    "def test1(*args):\n",
    "    return args"
   ]
  },
  {
   "cell_type": "code",
   "execution_count": 6,
   "id": "e5a616e5-a229-4009-9f18-d6292a8206f9",
   "metadata": {},
   "outputs": [
    {
     "data": {
      "text/plain": [
       "tuple"
      ]
     },
     "execution_count": 6,
     "metadata": {},
     "output_type": "execute_result"
    }
   ],
   "source": [
    "type(test1())"
   ]
  },
  {
   "cell_type": "code",
   "execution_count": 7,
   "id": "11386c97-c462-4542-bb84-0b4064a97b65",
   "metadata": {},
   "outputs": [
    {
     "data": {
      "text/plain": [
       "(1, 2, 3, 4, 5, 6, 7, 8, 9)"
      ]
     },
     "execution_count": 7,
     "metadata": {},
     "output_type": "execute_result"
    }
   ],
   "source": [
    "test1(1,2,3,4,5,6,7,8,9)"
   ]
  },
  {
   "cell_type": "code",
   "execution_count": 8,
   "id": "b835ba34-4250-4248-ad9d-61cbeb351bb0",
   "metadata": {},
   "outputs": [],
   "source": [
    "def test2(**kwargs):\n",
    "    return kwargs"
   ]
  },
  {
   "cell_type": "code",
   "execution_count": 9,
   "id": "995940e3-5ab3-4af6-ae1b-6ec06d060d88",
   "metadata": {},
   "outputs": [
    {
     "data": {
      "text/plain": [
       "dict"
      ]
     },
     "execution_count": 9,
     "metadata": {},
     "output_type": "execute_result"
    }
   ],
   "source": [
    "type(test2())"
   ]
  },
  {
   "cell_type": "code",
   "execution_count": 10,
   "id": "bbc6310b-0cca-4e24-9bb0-96e6f2ad2c4d",
   "metadata": {},
   "outputs": [
    {
     "data": {
      "text/plain": [
       "{'a': 'Python', 'b': 3.0, 'c': [5, 6, 7, 8]}"
      ]
     },
     "execution_count": 10,
     "metadata": {},
     "output_type": "execute_result"
    }
   ],
   "source": [
    "test2(a='Python',b=3.0,c=[5,6,7,8])"
   ]
  },
  {
   "cell_type": "code",
   "execution_count": 11,
   "id": "129336ee-86c0-4fdd-a74b-3a3551c6a271",
   "metadata": {},
   "outputs": [
    {
     "data": {
      "text/plain": [
       "'\\nQ3. An iterator in python is an object from which data extraction can be done one by one.\\nTo initialise an iterator we have to use iter() ie iter function and then to iterate the object we should be using the next() ie the next function\\nthis has been demonstrated below:- \\n'"
      ]
     },
     "execution_count": 11,
     "metadata": {},
     "output_type": "execute_result"
    }
   ],
   "source": [
    "'''\n",
    "Q3. An iterator in python is an object from which data extraction can be done one by one.\n",
    "To initialise an iterator we have to use iter() ie iter function and then to iterate the object we should be using the next() ie the next function\n",
    "this has been demonstrated below:- \n",
    "'''"
   ]
  },
  {
   "cell_type": "code",
   "execution_count": 12,
   "id": "01fc372a-6cc7-4d82-90c3-71df6a3a69f7",
   "metadata": {},
   "outputs": [
    {
     "data": {
      "text/plain": [
       "2"
      ]
     },
     "execution_count": 12,
     "metadata": {},
     "output_type": "execute_result"
    }
   ],
   "source": [
    "s=[2,4,6,8,10,12,14,16,18,20]\n",
    "s1=iter(s)\n",
    "next(s1)"
   ]
  },
  {
   "cell_type": "code",
   "execution_count": 13,
   "id": "18a4fd0d-f67b-4d83-84b0-79af7a7aaea2",
   "metadata": {},
   "outputs": [
    {
     "data": {
      "text/plain": [
       "4"
      ]
     },
     "execution_count": 13,
     "metadata": {},
     "output_type": "execute_result"
    }
   ],
   "source": [
    "next(s1)"
   ]
  },
  {
   "cell_type": "code",
   "execution_count": 14,
   "id": "e757c55b-4e28-474b-bbdf-856b964225a3",
   "metadata": {},
   "outputs": [
    {
     "data": {
      "text/plain": [
       "6"
      ]
     },
     "execution_count": 14,
     "metadata": {},
     "output_type": "execute_result"
    }
   ],
   "source": [
    "next(s1)"
   ]
  },
  {
   "cell_type": "code",
   "execution_count": 15,
   "id": "6d011fa9-3f77-4a54-84e5-0a4fca317faf",
   "metadata": {},
   "outputs": [
    {
     "data": {
      "text/plain": [
       "8"
      ]
     },
     "execution_count": 15,
     "metadata": {},
     "output_type": "execute_result"
    }
   ],
   "source": [
    "next(s1)"
   ]
  },
  {
   "cell_type": "code",
   "execution_count": 16,
   "id": "688ba68b-8f25-4e73-a56c-2ac25e7d0333",
   "metadata": {},
   "outputs": [
    {
     "data": {
      "text/plain": [
       "10"
      ]
     },
     "execution_count": 16,
     "metadata": {},
     "output_type": "execute_result"
    }
   ],
   "source": [
    "next(s1)"
   ]
  },
  {
   "cell_type": "code",
   "execution_count": 17,
   "id": "309881bd-4be3-456c-9227-1dc27dd8f5f7",
   "metadata": {},
   "outputs": [
    {
     "data": {
      "text/plain": [
       "'\\nQ4.\\nA generator function in python is a function that returns an iterator using the yield keyword. It is a memory efficient way of generating data\\nThe Yield keyword is very important as its presence in any python function, automattically makes it a generator funcion\\nThe range() is an inbuilt generator function in Python\\n'"
      ]
     },
     "execution_count": 17,
     "metadata": {},
     "output_type": "execute_result"
    }
   ],
   "source": [
    "'''\n",
    "Q4.\n",
    "A generator function in python is a function that returns an iterator using the yield keyword. It is a memory efficient way of generating data\n",
    "The Yield keyword is very important as its presence in any python function, automattically makes it a generator funcion\n",
    "The range() is an inbuilt generator function in Python\n",
    "'''"
   ]
  },
  {
   "cell_type": "code",
   "execution_count": 18,
   "id": "7c6c8a2c-fc21-46ce-8289-b1f140155d45",
   "metadata": {},
   "outputs": [],
   "source": [
    "#Q5. A generator function for prime numbers less than 1000 is shown below:-"
   ]
  },
  {
   "cell_type": "code",
   "execution_count": 19,
   "id": "4b61fda8-5e45-4333-9932-063ee935ba44",
   "metadata": {},
   "outputs": [],
   "source": [
    "def test_prime():\n",
    "    for i in range(2,1000,+1):\n",
    "        if i==4:\n",
    "            i=i+1\n",
    "        for j in range(2,int(i/2),1):\n",
    "            if i%j==0:\n",
    "                break\n",
    "        else:\n",
    "            yield i\n",
    "    "
   ]
  },
  {
   "cell_type": "code",
   "execution_count": 20,
   "id": "8ba48ce6-eea3-40d3-b306-037230584750",
   "metadata": {},
   "outputs": [
    {
     "data": {
      "text/plain": [
       "generator"
      ]
     },
     "execution_count": 20,
     "metadata": {},
     "output_type": "execute_result"
    }
   ],
   "source": [
    "type(test_prime())"
   ]
  },
  {
   "cell_type": "code",
   "execution_count": 21,
   "id": "0014c9be-17c3-4228-a356-445088b571c5",
   "metadata": {},
   "outputs": [],
   "source": [
    "pr=iter(test_prime()) "
   ]
  },
  {
   "cell_type": "code",
   "execution_count": 22,
   "id": "232f943b-e5b1-433f-b3a2-b9949529742c",
   "metadata": {},
   "outputs": [
    {
     "name": "stdout",
     "output_type": "stream",
     "text": [
      "2\n",
      "3\n",
      "5\n",
      "5\n",
      "7\n",
      "11\n",
      "13\n",
      "17\n",
      "19\n",
      "23\n",
      "29\n",
      "31\n",
      "37\n",
      "41\n",
      "43\n",
      "47\n",
      "53\n",
      "59\n",
      "61\n",
      "67\n",
      "71\n"
     ]
    }
   ],
   "source": [
    "for k in range(21):\n",
    "    print(next(pr)) #The first 20 prime numbers have been shown below, please note as 5 has repeated so, the total number of values shown is 21"
   ]
  },
  {
   "cell_type": "code",
   "execution_count": 23,
   "id": "4c4e2d52-269c-4b33-a19c-1602059731f4",
   "metadata": {},
   "outputs": [],
   "source": [
    "#Q6. A Python program to print first 10 fibonacci numbers is shown below:-"
   ]
  },
  {
   "cell_type": "code",
   "execution_count": 24,
   "id": "c22a4c94-ec3c-4a84-8aea-a933b69d75f2",
   "metadata": {},
   "outputs": [],
   "source": [
    "l=[]\n",
    "a,b=0,1\n",
    "i=0\n",
    "while i<10:\n",
    "    \n",
    "    l.append(a)\n",
    "    a,b=b,a+b\n",
    "    i+=1"
   ]
  },
  {
   "cell_type": "code",
   "execution_count": 25,
   "id": "2a571602-362e-4917-b25a-f887861759ec",
   "metadata": {},
   "outputs": [
    {
     "data": {
      "text/plain": [
       "[0, 1, 1, 2, 3, 5, 8, 13, 21, 34]"
      ]
     },
     "execution_count": 25,
     "metadata": {},
     "output_type": "execute_result"
    }
   ],
   "source": [
    "l"
   ]
  },
  {
   "cell_type": "code",
   "execution_count": 26,
   "id": "f7b02af2-44ef-4597-b482-b0a09d11721e",
   "metadata": {},
   "outputs": [],
   "source": [
    "#Q7.A List Comprehension to iterate through the given string 'pwskills' is shown below"
   ]
  },
  {
   "cell_type": "code",
   "execution_count": 27,
   "id": "551394bc-7e01-41b4-878f-e372517171c1",
   "metadata": {},
   "outputs": [],
   "source": [
    "st=\"pwskills\"\n",
    "l=list(map(lambda x:x,st))\n"
   ]
  },
  {
   "cell_type": "code",
   "execution_count": 28,
   "id": "160944c7-a2df-41a9-9c2b-a05bbdb884cc",
   "metadata": {},
   "outputs": [
    {
     "data": {
      "text/plain": [
       "['p', 'w', 's', 'k', 'i', 'l', 'l', 's']"
      ]
     },
     "execution_count": 28,
     "metadata": {},
     "output_type": "execute_result"
    }
   ],
   "source": [
    "l"
   ]
  },
  {
   "cell_type": "code",
   "execution_count": 29,
   "id": "dfcc8890-0cca-4ca2-927e-7bd8f26da3a5",
   "metadata": {},
   "outputs": [],
   "source": [
    "#Q8. A Python program to check if a number is palindrome or not using while loop is shown below:-"
   ]
  },
  {
   "cell_type": "code",
   "execution_count": null,
   "id": "e1559985-03ee-4230-985a-e950cc9abb28",
   "metadata": {},
   "outputs": [],
   "source": [
    "u=input()\n",
    "lth=len(u)-1\n",
    "i=0\n",
    "\n",
    "while i<=lth:\n",
    "    if u[i]==u[lth-i]:\n",
    "        rslt=True\n",
    "        i=i+1\n",
    "    else:\n",
    "        rslt=False\n",
    "        \n",
    "if rslt==True:\n",
    "    \n",
    "    \n",
    "    print('The number is a palindrome')\n",
    "    \n",
    "    \n",
    "else:\n",
    "    \n",
    "    print('The number is not a palindrome')\n",
    "    \n",
    "    "
   ]
  },
  {
   "cell_type": "code",
   "execution_count": null,
   "id": "6b04daf0-3a3c-411c-b885-7baa9539dc9c",
   "metadata": {},
   "outputs": [],
   "source": [
    "#Q9. To print odd numbers from 1 to 100 using list comprehension:-"
   ]
  },
  {
   "cell_type": "code",
   "execution_count": 16,
   "id": "65f6ca4d-c200-425c-97b7-f251f764cd57",
   "metadata": {},
   "outputs": [],
   "source": [
    "r=range(100)\n",
    "\n"
   ]
  },
  {
   "cell_type": "code",
   "execution_count": 17,
   "id": "a837bbe4-643e-481a-9de0-91c83c286ed4",
   "metadata": {},
   "outputs": [
    {
     "data": {
      "text/plain": [
       "[1,\n",
       " 3,\n",
       " 5,\n",
       " 7,\n",
       " 9,\n",
       " 11,\n",
       " 13,\n",
       " 15,\n",
       " 17,\n",
       " 19,\n",
       " 21,\n",
       " 23,\n",
       " 25,\n",
       " 27,\n",
       " 29,\n",
       " 31,\n",
       " 33,\n",
       " 35,\n",
       " 37,\n",
       " 39,\n",
       " 41,\n",
       " 43,\n",
       " 45,\n",
       " 47,\n",
       " 49,\n",
       " 51,\n",
       " 53,\n",
       " 55,\n",
       " 57,\n",
       " 59,\n",
       " 61,\n",
       " 63,\n",
       " 65,\n",
       " 67,\n",
       " 69,\n",
       " 71,\n",
       " 73,\n",
       " 75,\n",
       " 77,\n",
       " 79,\n",
       " 81,\n",
       " 83,\n",
       " 85,\n",
       " 87,\n",
       " 89,\n",
       " 91,\n",
       " 93,\n",
       " 95,\n",
       " 97,\n",
       " 99]"
      ]
     },
     "execution_count": 17,
     "metadata": {},
     "output_type": "execute_result"
    }
   ],
   "source": [
    "l2"
   ]
  },
  {
   "cell_type": "code",
   "execution_count": null,
   "id": "c875e632-a9d6-4f47-96ea-a62235ac8b30",
   "metadata": {},
   "outputs": [],
   "source": []
  }
 ],
 "metadata": {
  "kernelspec": {
   "display_name": "Python 3 (ipykernel)",
   "language": "python",
   "name": "python3"
  },
  "language_info": {
   "codemirror_mode": {
    "name": "ipython",
    "version": 3
   },
   "file_extension": ".py",
   "mimetype": "text/x-python",
   "name": "python",
   "nbconvert_exporter": "python",
   "pygments_lexer": "ipython3",
   "version": "3.10.8"
  }
 },
 "nbformat": 4,
 "nbformat_minor": 5
}
